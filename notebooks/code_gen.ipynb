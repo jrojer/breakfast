{
 "cells": [
  {
   "cell_type": "code",
   "execution_count": 10,
   "metadata": {},
   "outputs": [],
   "source": [
    "from gpt_completer import GptCompleter\n",
    "from IPython.display import display, Markdown\n",
    "from pathlib import Path\n",
    "\n",
    "\n",
    "SYSTEM_PROMPT_TEPMPLATE = \"\"\"\\\n",
    "You are a programming assistant. \n",
    "\n",
    "When asked to update, please provide only the code that you want to add or change.\n",
    "\n",
    "\n",
    "Source files are:\n",
    "```\n",
    "{filenames}\n",
    "```\n",
    "\n",
    "Source code:\n",
    "\n",
    "{source_files}\n",
    "\"\"\"\n",
    "\n",
    "\n",
    "SOURCE_PART_TEMPLATE = \"\"\"\\\n",
    "name: `{filename}`\n",
    "\n",
    "contents:\n",
    "```\n",
    "{contents}\n",
    "```\n",
    "\"\"\"\n",
    "\n",
    "INCLUDE_SUFFIXES = [\".go\", \".md\"]\n",
    "EXCLUDE_DIRS = [\".git\", \"__pycache__\", \".venv\", \"notebooks\"]\n",
    "\n",
    "\n",
    "def all_files_recursively(dir=\".\", exclude_dirs=EXCLUDE_DIRS):\n",
    "    result = []\n",
    "    for p in Path(dir).iterdir():\n",
    "        if p.is_dir() and p.name in exclude_dirs:\n",
    "            continue\n",
    "        if p.is_file():\n",
    "            result.append(p)\n",
    "        else:\n",
    "            result.extend(all_files_recursively(p, exclude_dirs))\n",
    "    return result\n",
    "\n",
    "\n",
    "def build_sys_prompt(dir=\"..\"):\n",
    "    all_files = all_files_recursively(dir)\n",
    "    filenames = [str(p.relative_to(dir)) for p in all_files]\n",
    "    parts = []\n",
    "    for p in all_files:\n",
    "        if p.suffix in INCLUDE_SUFFIXES:\n",
    "            contents = p.read_text() or \"EMPTY FILE\"\n",
    "            parts.append(\n",
    "                SOURCE_PART_TEMPLATE.format(\n",
    "                    filename=p.relative_to(dir), contents=contents\n",
    "                )\n",
    "            )\n",
    "    return SYSTEM_PROMPT_TEPMPLATE.format(\n",
    "        filenames=\"\\n\".join(filenames), source_files=\"\\n\".join(parts)\n",
    "    )"
   ]
  },
  {
   "cell_type": "code",
   "execution_count": null,
   "metadata": {},
   "outputs": [],
   "source": [
    "QUERY = \"\"\"\\\n",
    "We are wrting a service in Go language.\n",
    "You've been given with the initial project layout.\n",
    "Please create a test for the case when Completer receives 429 Limit Reached error from the openai API.\n",
    "\"\"\"\n",
    "display(Markdown(GptCompleter(build_sys_prompt()).complete(QUERY)))"
   ]
  }
 ],
 "metadata": {
  "kernelspec": {
   "display_name": "Python 3",
   "language": "python",
   "name": "python3"
  },
  "language_info": {
   "codemirror_mode": {
    "name": "ipython",
    "version": 3
   },
   "file_extension": ".py",
   "mimetype": "text/x-python",
   "name": "python",
   "nbconvert_exporter": "python",
   "pygments_lexer": "ipython3",
   "version": "3.11.7"
  }
 },
 "nbformat": 4,
 "nbformat_minor": 2
}
